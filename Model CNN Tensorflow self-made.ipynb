{
 "cells": [
  {
   "cell_type": "code",
   "execution_count": 1,
   "id": "62ae8bb9",
   "metadata": {},
   "outputs": [
    {
     "name": "stdout",
     "output_type": "stream",
     "text": [
      "WARNING:tensorflow:From C:\\Users\\taouf\\anaconda3\\Lib\\site-packages\\keras\\src\\losses.py:2976: The name tf.losses.sparse_softmax_cross_entropy is deprecated. Please use tf.compat.v1.losses.sparse_softmax_cross_entropy instead.\n",
      "\n"
     ]
    }
   ],
   "source": [
    "from tensorflow.keras.preprocessing.image import ImageDataGenerator\n",
    "import numpy as np\n",
    "from tensorflow.keras.preprocessing import image\n",
    "from tensorflow.keras import models, layers\n",
    "import os"
   ]
  },
  {
   "cell_type": "code",
   "execution_count": 3,
   "id": "dd778547",
   "metadata": {},
   "outputs": [
    {
     "name": "stdout",
     "output_type": "stream",
     "text": [
      "Found 1119 images belonging to 2 classes.\n",
      "Found 279 images belonging to 2 classes.\n"
     ]
    }
   ],
   "source": [
    "base_dir = \"C:\\\\Users\\\\taouf\\\\USE_CASE_3\\\\Photos\"\n",
    "\n",
    "# Création d'un générateur d'images pour le prétraitement des données\n",
    "datagen = ImageDataGenerator(\n",
    "    rescale=1.0 / 255,\n",
    "    validation_split=0.2\n",
    ")\n",
    "\n",
    "# Création d'un générateur pour l'ensemble d'entraînement\n",
    "train_generator = datagen.flow_from_directory(\n",
    "    base_dir,\n",
    "    target_size=(224, 224),\n",
    "    batch_size=32,\n",
    "    class_mode='binary',  \n",
    "    subset='training'\n",
    ")\n",
    "\n",
    "# Création d'un générateur pour l'ensemble de validation\n",
    "val_gen = datagen.flow_from_directory(\n",
    "    base_dir,\n",
    "    target_size=(224, 224),\n",
    "    batch_size=32,\n",
    "    class_mode='binary',\n",
    "    subset='validation'\n",
    ")\n"
   ]
  },
  {
   "cell_type": "code",
   "execution_count": 4,
   "id": "e1e75a39",
   "metadata": {},
   "outputs": [
    {
     "name": "stdout",
     "output_type": "stream",
     "text": [
      "WARNING:tensorflow:From C:\\Users\\taouf\\anaconda3\\Lib\\site-packages\\keras\\src\\backend.py:873: The name tf.get_default_graph is deprecated. Please use tf.compat.v1.get_default_graph instead.\n",
      "\n",
      "WARNING:tensorflow:From C:\\Users\\taouf\\anaconda3\\Lib\\site-packages\\keras\\src\\layers\\pooling\\max_pooling2d.py:161: The name tf.nn.max_pool is deprecated. Please use tf.nn.max_pool2d instead.\n",
      "\n",
      "WARNING:tensorflow:From C:\\Users\\taouf\\anaconda3\\Lib\\site-packages\\keras\\src\\optimizers\\__init__.py:309: The name tf.train.Optimizer is deprecated. Please use tf.compat.v1.train.Optimizer instead.\n",
      "\n",
      "Epoch 1/10\n",
      "WARNING:tensorflow:From C:\\Users\\taouf\\anaconda3\\Lib\\site-packages\\keras\\src\\utils\\tf_utils.py:492: The name tf.ragged.RaggedTensorValue is deprecated. Please use tf.compat.v1.ragged.RaggedTensorValue instead.\n",
      "\n",
      "WARNING:tensorflow:From C:\\Users\\taouf\\anaconda3\\Lib\\site-packages\\keras\\src\\engine\\base_layer_utils.py:384: The name tf.executing_eagerly_outside_functions is deprecated. Please use tf.compat.v1.executing_eagerly_outside_functions instead.\n",
      "\n",
      "35/35 [==============================] - 39s 1s/step - loss: 0.7120 - accuracy: 0.6184 - val_loss: 0.5042 - val_accuracy: 0.7527\n",
      "Epoch 2/10\n",
      "35/35 [==============================] - 36s 1s/step - loss: 0.5326 - accuracy: 0.7355 - val_loss: 0.5732 - val_accuracy: 0.6810\n",
      "Epoch 3/10\n",
      "35/35 [==============================] - 36s 1s/step - loss: 0.4545 - accuracy: 0.7757 - val_loss: 0.4773 - val_accuracy: 0.7670\n",
      "Epoch 4/10\n",
      "35/35 [==============================] - 34s 978ms/step - loss: 0.3535 - accuracy: 0.8499 - val_loss: 0.4486 - val_accuracy: 0.7885\n",
      "Epoch 5/10\n",
      "35/35 [==============================] - 36s 1s/step - loss: 0.2360 - accuracy: 0.9106 - val_loss: 0.4867 - val_accuracy: 0.7921\n",
      "Epoch 6/10\n",
      "35/35 [==============================] - 35s 1s/step - loss: 0.1622 - accuracy: 0.9464 - val_loss: 0.6112 - val_accuracy: 0.7348\n",
      "Epoch 7/10\n",
      "35/35 [==============================] - 36s 1s/step - loss: 0.0928 - accuracy: 0.9732 - val_loss: 0.5461 - val_accuracy: 0.7957\n",
      "Epoch 8/10\n",
      "35/35 [==============================] - 36s 1s/step - loss: 0.0532 - accuracy: 0.9821 - val_loss: 0.7711 - val_accuracy: 0.7993\n",
      "Epoch 9/10\n",
      "35/35 [==============================] - 36s 1s/step - loss: 0.0326 - accuracy: 0.9902 - val_loss: 0.8522 - val_accuracy: 0.7706\n",
      "Epoch 10/10\n",
      "35/35 [==============================] - 37s 1s/step - loss: 0.0373 - accuracy: 0.9884 - val_loss: 0.8376 - val_accuracy: 0.7885\n"
     ]
    }
   ],
   "source": [
    "# Définition du modèle CNN\n",
    "model = models.Sequential([\n",
    "    layers.Conv2D(32, (3, 3), activation='relu', input_shape=(224, 224, 3)),\n",
    "    layers.MaxPooling2D((2, 2)),\n",
    "    layers.Conv2D(64, (3, 3), activation='relu'),\n",
    "    layers.MaxPooling2D((2, 2)),\n",
    "    layers.Conv2D(128, (3, 3), activation='relu'),\n",
    "    layers.MaxPooling2D((2, 2)),\n",
    "    layers.Flatten(),\n",
    "    layers.Dense(128, activation='relu'),\n",
    "    layers.Dense(1, activation='sigmoid')\n",
    "])\n",
    "\n",
    "# Compilation du modèle\n",
    "model.compile(\n",
    "    optimizer='adam',\n",
    "    loss='binary_crossentropy',\n",
    "    metrics=['accuracy']\n",
    ")\n",
    "\n",
    "# Entraînement du modèle\n",
    "history = model.fit(\n",
    "    train_generator,\n",
    "    validation_data=val_gen,\n",
    "    epochs=10\n",
    ")"
   ]
  },
  {
   "cell_type": "code",
   "execution_count": 6,
   "id": "eca746bc",
   "metadata": {},
   "outputs": [
    {
     "name": "stdout",
     "output_type": "stream",
     "text": [
      "9/9 [==============================] - 9s 936ms/step - loss: 0.8376 - accuracy: 0.7885\n",
      "Test accuracy: 0.7885304689407349\n"
     ]
    }
   ],
   "source": [
    "# Évaluation du modèle sur l'ensemble de validation\n",
    "test_loss, test_acc = model.evaluate(val_gen)\n",
    "print(f\"Test accuracy: {test_acc}\")\n",
    "\n",
    "folder_path = 'C:\\\\Users\\\\taouf\\\\USE_CASE_3\\\\Photos_Test'\n",
    "\n",
    "def predict_image(img_path, model):\n",
    "    img = image.load_img(img_path, target_size=(224, 224))\n",
    "    img_array = image.img_to_array(img)\n",
    "    img_array = np.expand_dims(img_array, axis=0)\n",
    "    img_array /= 255.0\n",
    "\n",
    "    prediction = model.predict(img_array)\n",
    "    return 'Reportage' if prediction[0] < 0.5 else 'Studio'\n",
    "\n",
    "def predict_on_folder(folder_path, model):\n",
    "    results = []\n",
    "    for filename in os.listdir(folder_path):\n",
    "        if filename.endswith(('.jpg', '.jpeg', '.png')):\n",
    "            img_path = os.path.join(folder_path, filename)\n",
    "            label = predict_image(img_path, model)\n",
    "            results.append((filename, label))\n",
    "    return results\n",
    "\n",
    "predictions = predict_on_folder(folder_path, model)\n",
    "\n",
    "for filename, label in predictions:\n",
    "    print(f\"{filename}: {label}\")"
   ]
  },
  {
   "cell_type": "code",
   "execution_count": null,
   "id": "49fa1840",
   "metadata": {},
   "outputs": [],
   "source": []
  }
 ],
 "metadata": {
  "kernelspec": {
   "display_name": "Python 3 (ipykernel)",
   "language": "python",
   "name": "python3"
  },
  "language_info": {
   "codemirror_mode": {
    "name": "ipython",
    "version": 3
   },
   "file_extension": ".py",
   "mimetype": "text/x-python",
   "name": "python",
   "nbconvert_exporter": "python",
   "pygments_lexer": "ipython3",
   "version": "3.11.5"
  }
 },
 "nbformat": 4,
 "nbformat_minor": 5
}
