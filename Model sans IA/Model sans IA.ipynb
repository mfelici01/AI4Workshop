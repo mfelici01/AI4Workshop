{
 "cells": [
  {
   "cell_type": "code",
   "execution_count": 3,
   "id": "a4485db2",
   "metadata": {},
   "outputs": [
    {
     "ename": "ModuleNotFoundError",
     "evalue": "No module named 'Librairie_vision'",
     "output_type": "error",
     "traceback": [
      "\u001b[1;31m---------------------------------------------------------------------------\u001b[0m",
      "\u001b[1;31mModuleNotFoundError\u001b[0m                       Traceback (most recent call last)",
      "Cell \u001b[1;32mIn[3], line 4\u001b[0m\n\u001b[0;32m      2\u001b[0m \u001b[38;5;28;01mimport\u001b[39;00m \u001b[38;5;21;01mnumpy\u001b[39;00m \u001b[38;5;28;01mas\u001b[39;00m \u001b[38;5;21;01mnp\u001b[39;00m\n\u001b[0;32m      3\u001b[0m \u001b[38;5;28;01mimport\u001b[39;00m \u001b[38;5;21;01mmatplotlib\u001b[39;00m\u001b[38;5;21;01m.\u001b[39;00m\u001b[38;5;21;01mpyplot\u001b[39;00m \u001b[38;5;28;01mas\u001b[39;00m \u001b[38;5;21;01mplt\u001b[39;00m\n\u001b[1;32m----> 4\u001b[0m \u001b[38;5;28;01mimport\u001b[39;00m \u001b[38;5;21;01mLibrairie_vision\u001b[39;00m \u001b[38;5;28;01mas\u001b[39;00m \u001b[38;5;21;01mlib\u001b[39;00m\n\u001b[0;32m      5\u001b[0m \u001b[38;5;28;01mimport\u001b[39;00m \u001b[38;5;21;01mimageio\u001b[39;00m\u001b[38;5;21;01m.\u001b[39;00m\u001b[38;5;21;01mv3\u001b[39;00m \u001b[38;5;28;01mas\u001b[39;00m \u001b[38;5;21;01miio\u001b[39;00m\n\u001b[0;32m      7\u001b[0m \u001b[38;5;66;03m##======================================[ zone des constantes ]==================================================================\u001b[39;00m\n\u001b[0;32m      8\u001b[0m \n\u001b[0;32m      9\u001b[0m \u001b[38;5;66;03m# Recupération Dataset\u001b[39;00m\n",
      "\u001b[1;31mModuleNotFoundError\u001b[0m: No module named 'Librairie_vision'"
     ]
    }
   ],
   "source": [
    "##======================================[ zone d'import ]========================================================================\n",
    "import numpy as np\n",
    "import matplotlib.pyplot as plt\n",
    "import Librairie_vision as lib\n",
    "import imageio.v3 as iio\n",
    "\n",
    "##======================================[ zone des constantes ]==================================================================\n",
    "\n",
    "# Recupération Dataset\n",
    "File_list_studio = lib.get_files_with_extension(\"./studio_test_2\",\".jpg\")               # Images Studio\n",
    "File_list_reporte = lib.get_files_with_extension_recursive(\"./reportage_test_2\",\".jpg\") # Images Reportage \n",
    "\n",
    "nb_case = 32        # Découpage de l'image\n",
    "s1 = 0              # Initailisation Résultats images studio\n",
    "s2 = 0              # Initialisation Résultats image reportage\n",
    "test = 0            # Affichage résultats individuelle ( Activé = 1 ; Désactivé = 0 )\n",
    "\n",
    "\n",
    "##======================================[ zone du main ]========================================================================\n",
    "if __name__ ==\"__main__\" :\n",
    "    plt.close(\"all\")\n",
    "\n",
    "##--------------------------------------[ Traitement dataset images studio  ]---------------------------------------------------\n",
    "\n",
    "for i,filename in enumerate(File_list_studio) :             # Parcours toutes les images \n",
    "    if lib.test_image(filename,nb_case,i+1,test) == 1 :     # Test de l'image\n",
    "        s1 = s1 + 1                                         # Actualisation du résultats \n",
    "\n",
    "\n",
    "##--------------------------------------[ Traitement dataset images reportage  ]------------------------------------------------\n",
    "\n",
    "for j,filename in enumerate(File_list_reporte) :            # Parcours toutes les images\n",
    "    if lib.test_image(filename,nb_case,i+j+1,test) == 0 :   # Test de l'image\n",
    "        s2 = s2 + 1                                         # Actualisation du résultats \n",
    "\n",
    "##--------------------------------------[ Calcul de la précision ( en % )  ]-----------------------------------------------------\n",
    "\n",
    "pre = (s1*100)/i                # Calcul de la précision ( dataset studio )\n",
    "pre_2 = (s2*100)/j              # Calcul de la précision ( dataset reportage )\n",
    "precision = (pre + pre_2)/2     # Calcul de la précision globale \n",
    "\n",
    "## Affichage \n",
    "print(f\" Précision de décision ( Image studio ) : {pre}%\")\n",
    "print(f\" Précision de décision ( Image reportage ) : {pre_2}%\")\n",
    "print(f\" Précision de décision Global : {precision}%\")\n",
    "\n",
    "## Fin \n",
    "plt.show(block=True)\n"
   ]
  },
  {
   "cell_type": "code",
   "execution_count": null,
   "id": "e3f50d39",
   "metadata": {},
   "outputs": [],
   "source": []
  }
 ],
 "metadata": {
  "kernelspec": {
   "display_name": "Python 3 (ipykernel)",
   "language": "python",
   "name": "python3"
  },
  "language_info": {
   "codemirror_mode": {
    "name": "ipython",
    "version": 3
   },
   "file_extension": ".py",
   "mimetype": "text/x-python",
   "name": "python",
   "nbconvert_exporter": "python",
   "pygments_lexer": "ipython3",
   "version": "3.11.5"
  }
 },
 "nbformat": 4,
 "nbformat_minor": 5
}
