{
 "cells": [
  {
   "cell_type": "code",
   "execution_count": 1,
   "id": "4f3510a9",
   "metadata": {},
   "outputs": [
    {
     "name": "stdout",
     "output_type": "stream",
     "text": [
      "WARNING:tensorflow:From C:\\Users\\taouf\\anaconda3\\Lib\\site-packages\\keras\\src\\losses.py:2976: The name tf.losses.sparse_softmax_cross_entropy is deprecated. Please use tf.compat.v1.losses.sparse_softmax_cross_entropy instead.\n",
      "\n"
     ]
    }
   ],
   "source": [
    "import tensorflow as tf\n",
    "from tensorflow.keras.preprocessing.image import ImageDataGenerator\n",
    "from tensorflow.keras.applications import EfficientNetV2S\n",
    "from tensorflow.keras import layers, models\n",
    "from tensorflow.keras.optimizers import Adam\n",
    "import os\n",
    "import numpy as np\n",
    "from tensorflow.keras.preprocessing import image"
   ]
  },
  {
   "cell_type": "code",
   "execution_count": 3,
   "id": "5ded80e8",
   "metadata": {},
   "outputs": [
    {
     "name": "stdout",
     "output_type": "stream",
     "text": [
      "Found 1119 images belonging to 2 classes.\n",
      "Found 279 images belonging to 2 classes.\n",
      "WARNING:tensorflow:From C:\\Users\\taouf\\anaconda3\\Lib\\site-packages\\keras\\src\\backend.py:1398: The name tf.executing_eagerly_outside_functions is deprecated. Please use tf.compat.v1.executing_eagerly_outside_functions instead.\n",
      "\n",
      "WARNING:tensorflow:From C:\\Users\\taouf\\anaconda3\\Lib\\site-packages\\keras\\src\\layers\\normalization\\batch_normalization.py:979: The name tf.nn.fused_batch_norm is deprecated. Please use tf.compat.v1.nn.fused_batch_norm instead.\n",
      "\n",
      "Downloading data from https://storage.googleapis.com/tensorflow/keras-applications/efficientnet_v2/efficientnetv2-s_notop.h5\n",
      "82420632/82420632 [==============================] - 172s 2us/step\n",
      "Epoch 1/10\n",
      "WARNING:tensorflow:From C:\\Users\\taouf\\anaconda3\\Lib\\site-packages\\keras\\src\\utils\\tf_utils.py:492: The name tf.ragged.RaggedTensorValue is deprecated. Please use tf.compat.v1.ragged.RaggedTensorValue instead.\n",
      "\n",
      "WARNING:tensorflow:From C:\\Users\\taouf\\anaconda3\\Lib\\site-packages\\keras\\src\\engine\\base_layer_utils.py:384: The name tf.executing_eagerly_outside_functions is deprecated. Please use tf.compat.v1.executing_eagerly_outside_functions instead.\n",
      "\n",
      "35/35 [==============================] - 109s 2s/step - loss: 0.6723 - accuracy: 0.5871 - val_loss: 0.6313 - val_accuracy: 0.7097\n",
      "Epoch 2/10\n",
      "35/35 [==============================] - 72s 2s/step - loss: 0.6495 - accuracy: 0.6345 - val_loss: 0.6092 - val_accuracy: 0.7204\n",
      "Epoch 3/10\n",
      "35/35 [==============================] - 74s 2s/step - loss: 0.6274 - accuracy: 0.6604 - val_loss: 0.5945 - val_accuracy: 0.7312\n",
      "Epoch 4/10\n",
      "35/35 [==============================] - 73s 2s/step - loss: 0.6282 - accuracy: 0.6461 - val_loss: 0.5932 - val_accuracy: 0.7384\n",
      "Epoch 5/10\n",
      "35/35 [==============================] - 74s 2s/step - loss: 0.6167 - accuracy: 0.6667 - val_loss: 0.5825 - val_accuracy: 0.7348\n",
      "Epoch 6/10\n",
      "35/35 [==============================] - 74s 2s/step - loss: 0.6087 - accuracy: 0.6676 - val_loss: 0.5762 - val_accuracy: 0.7419\n",
      "Epoch 7/10\n",
      "35/35 [==============================] - 73s 2s/step - loss: 0.6095 - accuracy: 0.6595 - val_loss: 0.5815 - val_accuracy: 0.7312\n",
      "Epoch 8/10\n",
      "35/35 [==============================] - 73s 2s/step - loss: 0.6099 - accuracy: 0.6604 - val_loss: 0.5746 - val_accuracy: 0.7455\n",
      "Epoch 9/10\n",
      "35/35 [==============================] - 73s 2s/step - loss: 0.6095 - accuracy: 0.6649 - val_loss: 0.5746 - val_accuracy: 0.7419\n",
      "Epoch 10/10\n",
      "35/35 [==============================] - 72s 2s/step - loss: 0.6023 - accuracy: 0.6828 - val_loss: 0.5831 - val_accuracy: 0.7276\n"
     ]
    }
   ],
   "source": [
    "datagen = ImageDataGenerator(rescale=1./255, validation_split=0.2)\n",
    "\n",
    "train_gen = datagen.flow_from_directory(\n",
    "    'C:\\\\Users\\\\taouf\\\\USE_CASE_3\\\\Photos', \n",
    "    target_size=(224, 224),\n",
    "    batch_size=32,\n",
    "    class_mode='binary',\n",
    "    subset='training'\n",
    ")\n",
    "\n",
    "val_gen = datagen.flow_from_directory(\n",
    "    'C:\\\\Users\\\\taouf\\\\USE_CASE_3\\\\Photos', \n",
    "    target_size=(224, 224),\n",
    "    batch_size=32,\n",
    "    class_mode='binary',\n",
    "    subset='validation'\n",
    ")\n",
    "\n",
    "# Chargez le modèle préexistant EfficientNetV2S\n",
    "base_model = EfficientNetV2S(weights='imagenet', include_top=False, input_shape=(224, 224, 3))\n",
    "\n",
    "# Geler les poids du modèle préexistant\n",
    "base_model.trainable = False\n",
    "\n",
    "# Ajout des couches personnalisées\n",
    "model = models.Sequential([\n",
    "    base_model,\n",
    "    layers.GlobalAveragePooling2D(),\n",
    "    layers.Dense(256, activation='relu'),\n",
    "    layers.Dense(1, activation='sigmoid')  # Sortie binaire : reportage (0) ou studio (1)\n",
    "])\n",
    "\n",
    "# Compilation du modèle\n",
    "model.compile(optimizer=Adam(learning_rate=0.0001), loss='binary_crossentropy', metrics=['accuracy'])\n",
    "\n",
    "\n",
    "history = model.fit(\n",
    "    train_gen,\n",
    "    validation_data=val_gen,\n",
    "    epochs=10, \n",
    "    batch_size=32\n",
    ")"
   ]
  },
  {
   "cell_type": "code",
   "execution_count": null,
   "id": "fadba363",
   "metadata": {},
   "outputs": [
    {
     "name": "stdout",
     "output_type": "stream",
     "text": [
      "Epoch 1/5\n",
      "29/35 [=======================>......] - ETA: 45s - loss: 0.6660 - accuracy: 0.5981"
     ]
    }
   ],
   "source": [
    "# --- Fine-Tuning ---\n",
    "\n",
    "base_model.trainable = True\n",
    "\n",
    "# Débloquer seulement certaines couches\n",
    "for layer in base_model.layers[:15]: \n",
    "    layer.trainable = False\n",
    "\n",
    "model.compile(optimizer=Adam(learning_rate=1e-5), loss='binary_crossentropy', metrics=['accuracy'])\n",
    "\n",
    "# Réentraînement avec les couches dégelées\n",
    "history_finetune = model.fit(\n",
    "    train_gen,\n",
    "    epochs=5,\n",
    "    validation_data=val_gen,\n",
    "    batch_size=32\n",
    ")"
   ]
  },
  {
   "cell_type": "code",
   "execution_count": null,
   "id": "cae65c5b",
   "metadata": {},
   "outputs": [],
   "source": [
    "test_loss, test_acc = model.evaluate(val_gen)\n",
    "print(f\"Test accuracy: {test_acc}\")\n",
    "\n",
    "folder_path = 'photos_usecase3/Photos_Test/reportage_test'\n",
    "\n",
    "def predict_image(img_path, model):\n",
    "    img = image.load_img(img_path, target_size=(224, 224))\n",
    "    img_array = image.img_to_array(img)\n",
    "    img_array = np.expand_dims(img_array, axis=0)\n",
    "    img_array /= 255.0\n",
    "\n",
    "    prediction = model.predict(img_array)\n",
    "    return 'Reportage' if prediction[0] < 0.5 else 'Studio'\n",
    "\n",
    "def predict_on_folder(folder_path, model):\n",
    "    results = []\n",
    "    for filename in os.listdir(folder_path):\n",
    "        if filename.endswith(('.jpg', '.jpeg', '.png')):\n",
    "            img_path = os.path.join(folder_path, filename)\n",
    "            label = predict_image(img_path, model)\n",
    "            results.append((filename, label))\n",
    "            print(f\"Image: {filename}, Prédiction: {label}\")\n",
    "    return results"
   ]
  }
 ],
 "metadata": {
  "kernelspec": {
   "display_name": "Python 3 (ipykernel)",
   "language": "python",
   "name": "python3"
  },
  "language_info": {
   "codemirror_mode": {
    "name": "ipython",
    "version": 3
   },
   "file_extension": ".py",
   "mimetype": "text/x-python",
   "name": "python",
   "nbconvert_exporter": "python",
   "pygments_lexer": "ipython3",
   "version": "3.11.5"
  }
 },
 "nbformat": 4,
 "nbformat_minor": 5
}
