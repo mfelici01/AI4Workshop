{
 "cells": [
  {
   "cell_type": "markdown",
   "id": "23e2cdf3-b0e6-4b7d-a1e8-c64468de7f27",
   "metadata": {},
   "source": [
    "Test avec le dataset fournis par Einden"
   ]
  },
  {
   "cell_type": "code",
   "execution_count": null,
   "id": "a3da0d38-179d-4549-a5db-4769d5698784",
   "metadata": {
    "tags": []
   },
   "outputs": [],
   "source": [
    "import tensorflow as tf\n",
    "from tensorflow.keras.preprocessing.image import ImageDataGenerator\n",
    "from tensorflow.keras.applications import NASNetLarge\n",
    "from tensorflow.keras import layers, models\n",
    "from tensorflow.keras.optimizers import Adam\n",
    "import os\n",
    "\n",
    "current_path = os.getcwd()\n",
    "print(current_path)\n",
    "\n",
    "# Créez un générateur d'images pour charger et prétraiter les données\n",
    "datagen = ImageDataGenerator(rescale=1./255, validation_split=0.2)\n",
    "\n",
    "\n",
    "train_gen = datagen.flow_from_directory(\n",
    "    current_path + '/photos_usecase3/',  # Changer le chemin si necessaire\n",
    "    target_size=(224, 224),  # Taille des images pour VGG16\n",
    "    batch_size=32,\n",
    "    class_mode='binary',  # Deux classes : reportage et studio\n",
    "    subset='training'  # Utilisation pour l'entraînement\n",
    ")\n",
    "\n",
    "val_gen = datagen.flow_from_directory(\n",
    "    current_path + '/photos_usecase3/', # Changer le chemin si necessaire\n",
    "    target_size=(224, 224),\n",
    "    batch_size=32,\n",
    "    class_mode='binary',\n",
    "    subset='validation'  # Utilisation pour la validation\n",
    ")\n",
    "\n",
    "\n",
    "base_model = NASNetLarge(weights='imagenet', include_top=False, input_shape=(224, 224, 3))\n",
    "\n",
    "# Geler les poids du modèle préexistant\n",
    "base_model.trainable = True\n",
    "\n",
    "# Ajouter des couches personnalisées\n",
    "model = models.Sequential([\n",
    "    base_model,\n",
    "    layers.GlobalAveragePooling2D(),\n",
    "    layers.Dense(256, activation='relu'),\n",
    "    layers.Dense(1, activation='sigmoid')  # Sortie binaire : reportage (0) ou studio (1)\n",
    "])\n",
    "\n",
    "# Compiler le modèle\n",
    "model.compile(optimizer=Adam(learning_rate=0.0001), loss='binary_crossentropy', metrics=['accuracy'])\n",
    "\n",
    "history = model.fit(\n",
    "    train_gen,\n",
    "    epochs=10,  # Nombre d'époques selon votre besoin\n",
    "    validation_data=val_gen\n",
    ")\n",
    "\n",
    "\n",
    "test_loss, test_acc = model.evaluate(val_gen)\n",
    "print(f\"Test accuracy: {test_acc}\")"
   ]
  },
  {
   "cell_type": "markdown",
   "id": "91924b74-67b7-4ad7-8b33-9828ce70f8c0",
   "metadata": {},
   "source": [
    "Test avec le dataset fournis par Einden + un autre dataset ajouté dans le dossier validation"
   ]
  },
  {
   "cell_type": "code",
   "execution_count": null,
   "id": "24e9db07-0508-4c8d-9f5a-5d7ab97fdb4f",
   "metadata": {
    "tags": []
   },
   "outputs": [
    {
     "name": "stdout",
     "output_type": "stream",
     "text": [
      "C:\\Users\\Anais\\Documents\\M2\\WorkshopAI4Industry\\fichiers_usecase3\\data\n",
      "Found 1120 images belonging to 2 classes.\n",
      "Found 191 images belonging to 2 classes.\n",
      "Epoch 1/10\n",
      "23/35 [==================>...........] - ETA: 1:23 - loss: 0.4120 - accuracy: 0.8370"
     ]
    }
   ],
   "source": [
    "import tensorflow as tf\n",
    "from tensorflow.keras.preprocessing.image import ImageDataGenerator\n",
    "from tensorflow.keras.applications import NASNetLarge\n",
    "from tensorflow.keras import layers, models\n",
    "from tensorflow.keras.optimizers import Adam\n",
    "import os\n",
    "\n",
    "\n",
    "current_path = os.getcwd()\n",
    "print(current_path)\n",
    "\n",
    "# Créez un générateur d'images pour charger et prétraiter les données\n",
    "datagen = ImageDataGenerator(rescale=1./255, validation_split=0.2)\n",
    "\n",
    "train_gen = datagen.flow_from_directory(\n",
    "    current_path + '/photos_usecase3/',\n",
    "    target_size=(224, 224),  # Taille des images pour VGG16\n",
    "    batch_size=32,\n",
    "    class_mode='binary',  # Deux classes : reportage et studio\n",
    "    subset='training'  # Utilisation pour l'entraînement\n",
    ")\n",
    "\n",
    "val_gen = datagen.flow_from_directory(\n",
    "    current_path + '/validation_data/',\n",
    "    target_size=(224, 224),\n",
    "    batch_size=32,\n",
    "    class_mode='binary',\n",
    "    subset='validation'  # Utilisation pour la validation\n",
    ")\n",
    "\n",
    "# Chargez le modèle préexistant VGG16 sans les couches supérieures\n",
    "base_model = NASNetLarge(weights='imagenet', include_top=False, input_shape=(224, 224, 3))\n",
    "\n",
    "# Geler les poids du modèle préexistant\n",
    "base_model.trainable = True\n",
    "\n",
    "# Ajouter des couches personnalisées\n",
    "model = models.Sequential([\n",
    "    base_model,\n",
    "    layers.GlobalAveragePooling2D(),\n",
    "    layers.Dense(256, activation='relu'),\n",
    "    layers.Dense(1, activation='sigmoid')  # Sortie binaire : reportage (0) ou studio (1)\n",
    "])\n",
    "\n",
    "# Compiler le modèle\n",
    "model.compile(optimizer=Adam(learning_rate=0.0001), loss='binary_crossentropy', metrics=['accuracy'])\n",
    "\n",
    "history = model.fit(\n",
    "    train_gen,\n",
    "    epochs=10,  # Nombre d'époques selon votre besoin\n",
    "    validation_data=val_gen\n",
    ")\n",
    "\n",
    "test_loss, test_acc = model.evaluate(val_gen)\n",
    "print(f\"Test accuracy: {test_acc}\")"
   ]
  }
 ],
 "metadata": {
  "kernelspec": {
   "display_name": "Python 3 (ipykernel)",
   "language": "python",
   "name": "python3"
  },
  "language_info": {
   "codemirror_mode": {
    "name": "ipython",
    "version": 3
   },
   "file_extension": ".py",
   "mimetype": "text/x-python",
   "name": "python",
   "nbconvert_exporter": "python",
   "pygments_lexer": "ipython3",
   "version": "3.11.5"
  }
 },
 "nbformat": 4,
 "nbformat_minor": 5
}
